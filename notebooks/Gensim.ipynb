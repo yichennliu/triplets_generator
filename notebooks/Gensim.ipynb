{
 "cells": [
  {
   "cell_type": "code",
   "execution_count": 2,
   "metadata": {},
   "outputs": [
    {
     "output_type": "stream",
     "name": "stdout",
     "text": "/home/cip/ce/ul62ilop/Desktop/RokinTech/src\n/home/cip/ce/ul62ilop/Desktop/RokinTech/data/02_intermediate/ArticleDataset.json00000000000000000000000\n"
    }
   ],
   "source": [
    "import pandas as pd \n",
    "from gensim.summarization import keywords\n",
    "\n",
    "import os, sys\n",
    "from d01_data.dataSlicer import data_slicer\n",
    "\n",
    "# relative to this notebook\n",
    "src_path = os.path.abspath(os.path.join('..'))\n",
    "src = os.path.join(src_path,\"src\")\n",
    "if src not in sys.path:\n",
    "    sys.path.append(src)\n",
    "\n",
    "# define the path and type of input file and out put file\n",
    "data_in = os.path.join(src_path, 'data','02_intermediate','ArticleDataset.json')\n",
    "data_out = os.path.join(src_path, 'data','02_intermediate','Article20.csv')\n",
    "\n",
    "\n",
    "# call the data slicer function\n",
    "data_slicer(data_in,data_out)\n",
    "\n"
   ]
  },
  {
   "cell_type": "code",
   "execution_count": null,
   "metadata": {},
   "outputs": [],
   "source": []
  }
 ],
 "metadata": {
  "language_info": {
   "codemirror_mode": {
    "name": "ipython",
    "version": 3
   },
   "file_extension": ".py",
   "mimetype": "text/x-python",
   "name": "python",
   "nbconvert_exporter": "python",
   "pygments_lexer": "ipython3",
   "version": "3.7.3-final"
  },
  "orig_nbformat": 2,
  "kernelspec": {
   "name": "python37364bitthesisvenv8cb23d135c564173b914a1a8389f3e64",
   "display_name": "Python 3.7.3 64-bit ('Thesis': venv)"
  }
 },
 "nbformat": 4,
 "nbformat_minor": 2
}